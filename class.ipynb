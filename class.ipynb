{
  "nbformat": 4,
  "nbformat_minor": 0,
  "metadata": {
    "colab": {
      "name": "class.ipynb",
      "provenance": [],
      "mount_file_id": "1uhvnyMmT5JzlrmCopYoE9cguvQS29FhA",
      "authorship_tag": "ABX9TyNZQ9iVKpYhCBoM3+XS8XjA",
      "include_colab_link": true
    },
    "kernelspec": {
      "name": "python3",
      "display_name": "Python 3"
    },
    "language_info": {
      "name": "python"
    }
  },
  "cells": [
    {
      "cell_type": "markdown",
      "metadata": {
        "id": "view-in-github",
        "colab_type": "text"
      },
      "source": [
        "<a href=\"https://colab.research.google.com/github/runyakeng/runyakeng/blob/main/class.ipynb\" target=\"_parent\"><img src=\"https://colab.research.google.com/assets/colab-badge.svg\" alt=\"Open In Colab\"/></a>"
      ]
    },
    {
      "cell_type": "code",
      "source": [
        "import pandas as pd\n",
        "import numpy as np\n",
        "from sklearn import preprocessing\n",
        "import matplotlib.pyplot as plt \n",
        "plt.rc(\"font\", size=14)\n",
        "from sklearn.linear_model import LogisticRegression\n",
        "from sklearn.model_selection import train_test_split\n",
        "import seaborn as sns\n",
        "sns.set(style=\"white\")\n",
        "sns.set(style=\"whitegrid\", color_codes=True)"
      ],
      "metadata": {
        "id": "hbAgw-lU1JY-"
      },
      "execution_count": null,
      "outputs": []
    },
    {
      "cell_type": "code",
      "source": [
        "url = '/content/drive/MyDrive/data_G3.xlsm'\n",
        "data = pd.read_excel(url)"
      ],
      "metadata": {
        "id": "WoFqefwg1W1G"
      },
      "execution_count": null,
      "outputs": []
    },
    {
      "cell_type": "code",
      "source": [
        "data.shape"
      ],
      "metadata": {
        "colab": {
          "base_uri": "https://localhost:8080/"
        },
        "id": "XyWT2n_j3K6V",
        "outputId": "889fbc7c-9064-4caf-e68e-13b9783824c3"
      },
      "execution_count": null,
      "outputs": [
        {
          "output_type": "execute_result",
          "data": {
            "text/plain": [
              "(183384, 22)"
            ]
          },
          "metadata": {},
          "execution_count": 3
        }
      ]
    },
    {
      "cell_type": "code",
      "source": [
        "data.head(20)"
      ],
      "metadata": {
        "colab": {
          "base_uri": "https://localhost:8080/",
          "height": 696
        },
        "id": "zS3WxVLV3OSN",
        "outputId": "833dd1d0-9798-44c0-d625-18eed8dbea98"
      },
      "execution_count": null,
      "outputs": [
        {
          "output_type": "execute_result",
          "data": {
            "text/html": [
              "<div>\n",
              "<style scoped>\n",
              "    .dataframe tbody tr th:only-of-type {\n",
              "        vertical-align: middle;\n",
              "    }\n",
              "\n",
              "    .dataframe tbody tr th {\n",
              "        vertical-align: top;\n",
              "    }\n",
              "\n",
              "    .dataframe thead th {\n",
              "        text-align: right;\n",
              "    }\n",
              "</style>\n",
              "<table border=\"1\" class=\"dataframe\">\n",
              "  <thead>\n",
              "    <tr style=\"text-align: right;\">\n",
              "      <th></th>\n",
              "      <th>LN_TYPE</th>\n",
              "      <th>SUBT</th>\n",
              "      <th>MKTCD</th>\n",
              "      <th>BAL</th>\n",
              "      <th>PCM</th>\n",
              "      <th>PAMT</th>\n",
              "      <th>FIX_PRI_AMT</th>\n",
              "      <th>FIX_INT_AMT</th>\n",
              "      <th>IRN_INT</th>\n",
              "      <th>MAX_OND</th>\n",
              "      <th>SCHSEQ</th>\n",
              "      <th>MDT</th>\n",
              "      <th>PROVCAT</th>\n",
              "      <th>PRINCIPAL</th>\n",
              "      <th>OSEQ</th>\n",
              "      <th>TDR</th>\n",
              "      <th>TDR_CONDT</th>\n",
              "      <th>DELSTAT</th>\n",
              "      <th>DR</th>\n",
              "      <th>PURPOSE_CODE</th>\n",
              "      <th>YEAR_TDR_CONDT</th>\n",
              "      <th>CLS_BEFORE_TDR</th>\n",
              "    </tr>\n",
              "  </thead>\n",
              "  <tbody>\n",
              "    <tr>\n",
              "      <th>0</th>\n",
              "      <td>7200</td>\n",
              "      <td>20002</td>\n",
              "      <td>1037</td>\n",
              "      <td>551504.88</td>\n",
              "      <td>15</td>\n",
              "      <td>4000.0</td>\n",
              "      <td>0.0</td>\n",
              "      <td>0.0</td>\n",
              "      <td>8.15</td>\n",
              "      <td>180</td>\n",
              "      <td>120</td>\n",
              "      <td>20230630</td>\n",
              "      <td>1</td>\n",
              "      <td>700000.0</td>\n",
              "      <td>0</td>\n",
              "      <td>4</td>\n",
              "      <td>20210916.0</td>\n",
              "      <td>1</td>\n",
              "      <td>Y</td>\n",
              "      <td>NO</td>\n",
              "      <td>2021.0</td>\n",
              "      <td>2.0</td>\n",
              "    </tr>\n",
              "    <tr>\n",
              "      <th>1</th>\n",
              "      <td>7200</td>\n",
              "      <td>20002</td>\n",
              "      <td>1037</td>\n",
              "      <td>39211.72</td>\n",
              "      <td>15</td>\n",
              "      <td>8200.0</td>\n",
              "      <td>0.0</td>\n",
              "      <td>0.0</td>\n",
              "      <td>7.15</td>\n",
              "      <td>120</td>\n",
              "      <td>124</td>\n",
              "      <td>20210730</td>\n",
              "      <td>3</td>\n",
              "      <td>700000.0</td>\n",
              "      <td>5</td>\n",
              "      <td>5</td>\n",
              "      <td>20150227.0</td>\n",
              "      <td>2</td>\n",
              "      <td>Y</td>\n",
              "      <td>NO</td>\n",
              "      <td>2015.0</td>\n",
              "      <td>2.0</td>\n",
              "    </tr>\n",
              "    <tr>\n",
              "      <th>2</th>\n",
              "      <td>7200</td>\n",
              "      <td>20002</td>\n",
              "      <td>1040</td>\n",
              "      <td>86848.10</td>\n",
              "      <td>15</td>\n",
              "      <td>2600.0</td>\n",
              "      <td>0.0</td>\n",
              "      <td>0.0</td>\n",
              "      <td>8.65</td>\n",
              "      <td>83</td>\n",
              "      <td>125</td>\n",
              "      <td>20240229</td>\n",
              "      <td>1</td>\n",
              "      <td>151000.0</td>\n",
              "      <td>1</td>\n",
              "      <td>4</td>\n",
              "      <td>20181030.0</td>\n",
              "      <td>1</td>\n",
              "      <td>Y</td>\n",
              "      <td>NO</td>\n",
              "      <td>2018.0</td>\n",
              "      <td>5.0</td>\n",
              "    </tr>\n",
              "    <tr>\n",
              "      <th>3</th>\n",
              "      <td>7200</td>\n",
              "      <td>20002</td>\n",
              "      <td>1037</td>\n",
              "      <td>1286040.87</td>\n",
              "      <td>15</td>\n",
              "      <td>5300.0</td>\n",
              "      <td>0.0</td>\n",
              "      <td>0.0</td>\n",
              "      <td>7.15</td>\n",
              "      <td>156</td>\n",
              "      <td>119</td>\n",
              "      <td>20250531</td>\n",
              "      <td>1</td>\n",
              "      <td>1500000.0</td>\n",
              "      <td>1</td>\n",
              "      <td>4</td>\n",
              "      <td>20210125.0</td>\n",
              "      <td>1</td>\n",
              "      <td>Y</td>\n",
              "      <td>HAVE</td>\n",
              "      <td>2021.0</td>\n",
              "      <td>2.0</td>\n",
              "    </tr>\n",
              "    <tr>\n",
              "      <th>4</th>\n",
              "      <td>7200</td>\n",
              "      <td>20002</td>\n",
              "      <td>1037</td>\n",
              "      <td>945067.81</td>\n",
              "      <td>15</td>\n",
              "      <td>8000.0</td>\n",
              "      <td>0.0</td>\n",
              "      <td>0.0</td>\n",
              "      <td>7.50</td>\n",
              "      <td>156</td>\n",
              "      <td>124</td>\n",
              "      <td>20290424</td>\n",
              "      <td>1</td>\n",
              "      <td>1700000.0</td>\n",
              "      <td>0</td>\n",
              "      <td>4</td>\n",
              "      <td>20210921.0</td>\n",
              "      <td>1</td>\n",
              "      <td>Y</td>\n",
              "      <td>NO</td>\n",
              "      <td>2021.0</td>\n",
              "      <td>1.0</td>\n",
              "    </tr>\n",
              "    <tr>\n",
              "      <th>5</th>\n",
              "      <td>7200</td>\n",
              "      <td>20002</td>\n",
              "      <td>1037</td>\n",
              "      <td>312075.58</td>\n",
              "      <td>15</td>\n",
              "      <td>4000.0</td>\n",
              "      <td>0.0</td>\n",
              "      <td>0.0</td>\n",
              "      <td>7.15</td>\n",
              "      <td>180</td>\n",
              "      <td>125</td>\n",
              "      <td>20250731</td>\n",
              "      <td>1</td>\n",
              "      <td>500000.0</td>\n",
              "      <td>1</td>\n",
              "      <td>5</td>\n",
              "      <td>20151221.0</td>\n",
              "      <td>2</td>\n",
              "      <td>Y</td>\n",
              "      <td>NO</td>\n",
              "      <td>2015.0</td>\n",
              "      <td>3.0</td>\n",
              "    </tr>\n",
              "    <tr>\n",
              "      <th>6</th>\n",
              "      <td>7200</td>\n",
              "      <td>20002</td>\n",
              "      <td>1037</td>\n",
              "      <td>1030300.00</td>\n",
              "      <td>15</td>\n",
              "      <td>7000.0</td>\n",
              "      <td>0.0</td>\n",
              "      <td>0.0</td>\n",
              "      <td>7.15</td>\n",
              "      <td>180</td>\n",
              "      <td>123</td>\n",
              "      <td>20250731</td>\n",
              "      <td>1</td>\n",
              "      <td>1400000.0</td>\n",
              "      <td>0</td>\n",
              "      <td>4</td>\n",
              "      <td>20210325.0</td>\n",
              "      <td>1</td>\n",
              "      <td>Y</td>\n",
              "      <td>NO</td>\n",
              "      <td>2021.0</td>\n",
              "      <td>1.0</td>\n",
              "    </tr>\n",
              "    <tr>\n",
              "      <th>7</th>\n",
              "      <td>7200</td>\n",
              "      <td>20002</td>\n",
              "      <td>1037</td>\n",
              "      <td>949732.04</td>\n",
              "      <td>15</td>\n",
              "      <td>9500.0</td>\n",
              "      <td>0.0</td>\n",
              "      <td>0.0</td>\n",
              "      <td>7.15</td>\n",
              "      <td>180</td>\n",
              "      <td>125</td>\n",
              "      <td>20250930</td>\n",
              "      <td>1</td>\n",
              "      <td>1400000.0</td>\n",
              "      <td>0</td>\n",
              "      <td>4</td>\n",
              "      <td>20200227.0</td>\n",
              "      <td>1</td>\n",
              "      <td>Y</td>\n",
              "      <td>NO</td>\n",
              "      <td>2020.0</td>\n",
              "      <td>2.0</td>\n",
              "    </tr>\n",
              "    <tr>\n",
              "      <th>8</th>\n",
              "      <td>7200</td>\n",
              "      <td>20002</td>\n",
              "      <td>1037</td>\n",
              "      <td>1035107.48</td>\n",
              "      <td>15</td>\n",
              "      <td>8500.0</td>\n",
              "      <td>0.0</td>\n",
              "      <td>0.0</td>\n",
              "      <td>7.15</td>\n",
              "      <td>180</td>\n",
              "      <td>123</td>\n",
              "      <td>20261231</td>\n",
              "      <td>1</td>\n",
              "      <td>1300000.0</td>\n",
              "      <td>0</td>\n",
              "      <td>4</td>\n",
              "      <td>20210325.0</td>\n",
              "      <td>1</td>\n",
              "      <td>Y</td>\n",
              "      <td>NO</td>\n",
              "      <td>2021.0</td>\n",
              "      <td>1.0</td>\n",
              "    </tr>\n",
              "    <tr>\n",
              "      <th>9</th>\n",
              "      <td>7200</td>\n",
              "      <td>20002</td>\n",
              "      <td>1041</td>\n",
              "      <td>95153.31</td>\n",
              "      <td>15</td>\n",
              "      <td>1000.0</td>\n",
              "      <td>0.0</td>\n",
              "      <td>0.0</td>\n",
              "      <td>6.65</td>\n",
              "      <td>120</td>\n",
              "      <td>122</td>\n",
              "      <td>20210131</td>\n",
              "      <td>4</td>\n",
              "      <td>300000.0</td>\n",
              "      <td>&gt;5</td>\n",
              "      <td>4</td>\n",
              "      <td>20190626.0</td>\n",
              "      <td>2</td>\n",
              "      <td>Y</td>\n",
              "      <td>HAVE</td>\n",
              "      <td>2019.0</td>\n",
              "      <td>2.0</td>\n",
              "    </tr>\n",
              "    <tr>\n",
              "      <th>10</th>\n",
              "      <td>7200</td>\n",
              "      <td>20002</td>\n",
              "      <td>1037</td>\n",
              "      <td>961696.81</td>\n",
              "      <td>15</td>\n",
              "      <td>12000.0</td>\n",
              "      <td>0.0</td>\n",
              "      <td>0.0</td>\n",
              "      <td>8.15</td>\n",
              "      <td>180</td>\n",
              "      <td>125</td>\n",
              "      <td>20230331</td>\n",
              "      <td>4</td>\n",
              "      <td>1100000.0</td>\n",
              "      <td>&gt;5</td>\n",
              "      <td>4</td>\n",
              "      <td>20191230.0</td>\n",
              "      <td>2</td>\n",
              "      <td>Y</td>\n",
              "      <td>NO</td>\n",
              "      <td>2019.0</td>\n",
              "      <td>5.0</td>\n",
              "    </tr>\n",
              "    <tr>\n",
              "      <th>11</th>\n",
              "      <td>7200</td>\n",
              "      <td>20002</td>\n",
              "      <td>1037</td>\n",
              "      <td>973512.88</td>\n",
              "      <td>15</td>\n",
              "      <td>5912.0</td>\n",
              "      <td>0.0</td>\n",
              "      <td>0.0</td>\n",
              "      <td>7.15</td>\n",
              "      <td>168</td>\n",
              "      <td>125</td>\n",
              "      <td>20241031</td>\n",
              "      <td>1</td>\n",
              "      <td>1500000.0</td>\n",
              "      <td>1</td>\n",
              "      <td>4</td>\n",
              "      <td>20211030.0</td>\n",
              "      <td>1</td>\n",
              "      <td>Y</td>\n",
              "      <td>NO</td>\n",
              "      <td>2021.0</td>\n",
              "      <td>2.0</td>\n",
              "    </tr>\n",
              "    <tr>\n",
              "      <th>12</th>\n",
              "      <td>7200</td>\n",
              "      <td>20002</td>\n",
              "      <td>1037</td>\n",
              "      <td>45107.76</td>\n",
              "      <td>15</td>\n",
              "      <td>1000.0</td>\n",
              "      <td>0.0</td>\n",
              "      <td>0.0</td>\n",
              "      <td>7.15</td>\n",
              "      <td>126</td>\n",
              "      <td>125</td>\n",
              "      <td>20250531</td>\n",
              "      <td>1</td>\n",
              "      <td>500000.0</td>\n",
              "      <td>0</td>\n",
              "      <td>4</td>\n",
              "      <td>20210530.0</td>\n",
              "      <td>1</td>\n",
              "      <td>Y</td>\n",
              "      <td>NO</td>\n",
              "      <td>2021.0</td>\n",
              "      <td>2.0</td>\n",
              "    </tr>\n",
              "    <tr>\n",
              "      <th>13</th>\n",
              "      <td>7200</td>\n",
              "      <td>20002</td>\n",
              "      <td>1037</td>\n",
              "      <td>490060.80</td>\n",
              "      <td>15</td>\n",
              "      <td>3100.0</td>\n",
              "      <td>0.0</td>\n",
              "      <td>0.0</td>\n",
              "      <td>7.15</td>\n",
              "      <td>120</td>\n",
              "      <td>122</td>\n",
              "      <td>20221231</td>\n",
              "      <td>1</td>\n",
              "      <td>650000.0</td>\n",
              "      <td>2</td>\n",
              "      <td>4</td>\n",
              "      <td>20201223.0</td>\n",
              "      <td>1</td>\n",
              "      <td>Y</td>\n",
              "      <td>HAVE</td>\n",
              "      <td>2020.0</td>\n",
              "      <td>2.0</td>\n",
              "    </tr>\n",
              "    <tr>\n",
              "      <th>14</th>\n",
              "      <td>7200</td>\n",
              "      <td>20002</td>\n",
              "      <td>1037</td>\n",
              "      <td>414642.25</td>\n",
              "      <td>15</td>\n",
              "      <td>7000.0</td>\n",
              "      <td>0.0</td>\n",
              "      <td>0.0</td>\n",
              "      <td>7.15</td>\n",
              "      <td>96</td>\n",
              "      <td>125</td>\n",
              "      <td>20270731</td>\n",
              "      <td>1</td>\n",
              "      <td>1300000.0</td>\n",
              "      <td>0</td>\n",
              "      <td>5</td>\n",
              "      <td>20150810.0</td>\n",
              "      <td>2</td>\n",
              "      <td>Y</td>\n",
              "      <td>NO</td>\n",
              "      <td>2015.0</td>\n",
              "      <td>1.0</td>\n",
              "    </tr>\n",
              "    <tr>\n",
              "      <th>15</th>\n",
              "      <td>7200</td>\n",
              "      <td>20002</td>\n",
              "      <td>1037</td>\n",
              "      <td>94191.39</td>\n",
              "      <td>15</td>\n",
              "      <td>6400.0</td>\n",
              "      <td>0.0</td>\n",
              "      <td>0.0</td>\n",
              "      <td>7.15</td>\n",
              "      <td>132</td>\n",
              "      <td>125</td>\n",
              "      <td>20221231</td>\n",
              "      <td>1</td>\n",
              "      <td>600000.0</td>\n",
              "      <td>0</td>\n",
              "      <td>4</td>\n",
              "      <td>20210913.0</td>\n",
              "      <td>1</td>\n",
              "      <td>Y</td>\n",
              "      <td>NO</td>\n",
              "      <td>2021.0</td>\n",
              "      <td>1.0</td>\n",
              "    </tr>\n",
              "    <tr>\n",
              "      <th>16</th>\n",
              "      <td>7200</td>\n",
              "      <td>20002</td>\n",
              "      <td>1037</td>\n",
              "      <td>661659.03</td>\n",
              "      <td>15</td>\n",
              "      <td>2500.0</td>\n",
              "      <td>0.0</td>\n",
              "      <td>0.0</td>\n",
              "      <td>8.15</td>\n",
              "      <td>180</td>\n",
              "      <td>134</td>\n",
              "      <td>20250228</td>\n",
              "      <td>3</td>\n",
              "      <td>800000.0</td>\n",
              "      <td>0</td>\n",
              "      <td>3</td>\n",
              "      <td>20210907.0</td>\n",
              "      <td>2</td>\n",
              "      <td>Y</td>\n",
              "      <td>NO</td>\n",
              "      <td>2021.0</td>\n",
              "      <td>5.0</td>\n",
              "    </tr>\n",
              "    <tr>\n",
              "      <th>17</th>\n",
              "      <td>7200</td>\n",
              "      <td>20002</td>\n",
              "      <td>1037</td>\n",
              "      <td>455602.50</td>\n",
              "      <td>15</td>\n",
              "      <td>4500.0</td>\n",
              "      <td>0.0</td>\n",
              "      <td>0.0</td>\n",
              "      <td>7.15</td>\n",
              "      <td>180</td>\n",
              "      <td>125</td>\n",
              "      <td>20250831</td>\n",
              "      <td>1</td>\n",
              "      <td>570000.0</td>\n",
              "      <td>0</td>\n",
              "      <td>4</td>\n",
              "      <td>20171027.0</td>\n",
              "      <td>1</td>\n",
              "      <td>Y</td>\n",
              "      <td>NO</td>\n",
              "      <td>2017.0</td>\n",
              "      <td>5.0</td>\n",
              "    </tr>\n",
              "    <tr>\n",
              "      <th>18</th>\n",
              "      <td>7200</td>\n",
              "      <td>20002</td>\n",
              "      <td>1037</td>\n",
              "      <td>755287.50</td>\n",
              "      <td>15</td>\n",
              "      <td>4607.0</td>\n",
              "      <td>0.0</td>\n",
              "      <td>0.0</td>\n",
              "      <td>7.15</td>\n",
              "      <td>120</td>\n",
              "      <td>123</td>\n",
              "      <td>20310131</td>\n",
              "      <td>1</td>\n",
              "      <td>1500000.0</td>\n",
              "      <td>1</td>\n",
              "      <td>4</td>\n",
              "      <td>20210718.0</td>\n",
              "      <td>1</td>\n",
              "      <td>Y</td>\n",
              "      <td>NO</td>\n",
              "      <td>2021.0</td>\n",
              "      <td>2.0</td>\n",
              "    </tr>\n",
              "    <tr>\n",
              "      <th>19</th>\n",
              "      <td>7200</td>\n",
              "      <td>20002</td>\n",
              "      <td>1037</td>\n",
              "      <td>310881.14</td>\n",
              "      <td>15</td>\n",
              "      <td>12000.0</td>\n",
              "      <td>0.0</td>\n",
              "      <td>0.0</td>\n",
              "      <td>6.90</td>\n",
              "      <td>156</td>\n",
              "      <td>126</td>\n",
              "      <td>20230731</td>\n",
              "      <td>1</td>\n",
              "      <td>950000.0</td>\n",
              "      <td>2</td>\n",
              "      <td>4</td>\n",
              "      <td>20120720.0</td>\n",
              "      <td>1</td>\n",
              "      <td>Y</td>\n",
              "      <td>NO</td>\n",
              "      <td>2012.0</td>\n",
              "      <td>1.0</td>\n",
              "    </tr>\n",
              "  </tbody>\n",
              "</table>\n",
              "</div>"
            ],
            "text/plain": [
              "    LN_TYPE   SUBT  MKTCD  ...  PURPOSE_CODE  YEAR_TDR_CONDT  CLS_BEFORE_TDR\n",
              "0      7200  20002   1037  ...            NO          2021.0             2.0\n",
              "1      7200  20002   1037  ...            NO          2015.0             2.0\n",
              "2      7200  20002   1040  ...            NO          2018.0             5.0\n",
              "3      7200  20002   1037  ...          HAVE          2021.0             2.0\n",
              "4      7200  20002   1037  ...            NO          2021.0             1.0\n",
              "5      7200  20002   1037  ...            NO          2015.0             3.0\n",
              "6      7200  20002   1037  ...            NO          2021.0             1.0\n",
              "7      7200  20002   1037  ...            NO          2020.0             2.0\n",
              "8      7200  20002   1037  ...            NO          2021.0             1.0\n",
              "9      7200  20002   1041  ...          HAVE          2019.0             2.0\n",
              "10     7200  20002   1037  ...            NO          2019.0             5.0\n",
              "11     7200  20002   1037  ...            NO          2021.0             2.0\n",
              "12     7200  20002   1037  ...            NO          2021.0             2.0\n",
              "13     7200  20002   1037  ...          HAVE          2020.0             2.0\n",
              "14     7200  20002   1037  ...            NO          2015.0             1.0\n",
              "15     7200  20002   1037  ...            NO          2021.0             1.0\n",
              "16     7200  20002   1037  ...            NO          2021.0             5.0\n",
              "17     7200  20002   1037  ...            NO          2017.0             5.0\n",
              "18     7200  20002   1037  ...            NO          2021.0             2.0\n",
              "19     7200  20002   1037  ...            NO          2012.0             1.0\n",
              "\n",
              "[20 rows x 22 columns]"
            ]
          },
          "metadata": {},
          "execution_count": 4
        }
      ]
    },
    {
      "cell_type": "code",
      "source": [
        "print(data.info())"
      ],
      "metadata": {
        "colab": {
          "base_uri": "https://localhost:8080/"
        },
        "id": "z_RvO91e3UPZ",
        "outputId": "0236b735-6422-4c82-ca64-ac472d08f2cc"
      },
      "execution_count": null,
      "outputs": [
        {
          "output_type": "stream",
          "name": "stdout",
          "text": [
            "<class 'pandas.core.frame.DataFrame'>\n",
            "RangeIndex: 183384 entries, 0 to 183383\n",
            "Data columns (total 22 columns):\n",
            " #   Column          Non-Null Count   Dtype  \n",
            "---  ------          --------------   -----  \n",
            " 0   LN_TYPE         183384 non-null  int64  \n",
            " 1   SUBT            183384 non-null  int64  \n",
            " 2   MKTCD           183384 non-null  int64  \n",
            " 3   BAL             183384 non-null  float64\n",
            " 4   PCM             183384 non-null  int64  \n",
            " 5   PAMT            183384 non-null  float64\n",
            " 6   FIX_PRI_AMT     183384 non-null  float64\n",
            " 7   FIX_INT_AMT     183384 non-null  float64\n",
            " 8   IRN_INT         183384 non-null  float64\n",
            " 9   MAX_OND         183384 non-null  int64  \n",
            " 10  SCHSEQ          183384 non-null  int64  \n",
            " 11  MDT             183384 non-null  int64  \n",
            " 12  PROVCAT         183384 non-null  int64  \n",
            " 13  PRINCIPAL       183384 non-null  float64\n",
            " 14  OSEQ            183384 non-null  object \n",
            " 15  TDR             183384 non-null  int64  \n",
            " 16  TDR_CONDT       54372 non-null   float64\n",
            " 17  DELSTAT         183384 non-null  int64  \n",
            " 18  DR              183384 non-null  object \n",
            " 19  PURPOSE_CODE    183384 non-null  object \n",
            " 20  YEAR_TDR_CONDT  54372 non-null   float64\n",
            " 21  CLS_BEFORE_TDR  54392 non-null   float64\n",
            "dtypes: float64(9), int64(10), object(3)\n",
            "memory usage: 30.8+ MB\n",
            "None\n"
          ]
        }
      ]
    },
    {
      "cell_type": "code",
      "source": [
        "data.isnull().sum()"
      ],
      "metadata": {
        "colab": {
          "base_uri": "https://localhost:8080/"
        },
        "id": "VHPr3EgO3YEZ",
        "outputId": "280f1425-eb95-4139-c6c7-9670b0fec9ec"
      },
      "execution_count": null,
      "outputs": [
        {
          "output_type": "execute_result",
          "data": {
            "text/plain": [
              "LN_TYPE                0\n",
              "SUBT                   0\n",
              "MKTCD                  0\n",
              "BAL                    0\n",
              "PCM                    0\n",
              "PAMT                   0\n",
              "FIX_PRI_AMT            0\n",
              "FIX_INT_AMT            0\n",
              "IRN_INT                0\n",
              "MAX_OND                0\n",
              "SCHSEQ                 0\n",
              "MDT                    0\n",
              "PROVCAT                0\n",
              "PRINCIPAL              0\n",
              "OSEQ                   0\n",
              "TDR                    0\n",
              "TDR_CONDT         129012\n",
              "DELSTAT                0\n",
              "DR                     0\n",
              "PURPOSE_CODE           0\n",
              "YEAR_TDR_CONDT    129012\n",
              "CLS_BEFORE_TDR    128992\n",
              "dtype: int64"
            ]
          },
          "metadata": {},
          "execution_count": 6
        }
      ]
    },
    {
      "cell_type": "code",
      "source": [
        "data=data.drop(['TDR_CONDT','YEAR_TDR_CONDT','CLS_BEFORE_TDR'],axis=1)"
      ],
      "metadata": {
        "id": "8wjlfExe3X4t"
      },
      "execution_count": null,
      "outputs": []
    },
    {
      "cell_type": "code",
      "source": [
        "data.isnull().sum()"
      ],
      "metadata": {
        "colab": {
          "base_uri": "https://localhost:8080/"
        },
        "id": "36Uzfkzc3gmx",
        "outputId": "07c71503-67f7-4e7f-c591-63bba960892f"
      },
      "execution_count": null,
      "outputs": [
        {
          "output_type": "execute_result",
          "data": {
            "text/plain": [
              "LN_TYPE         0\n",
              "SUBT            0\n",
              "MKTCD           0\n",
              "BAL             0\n",
              "PCM             0\n",
              "PAMT            0\n",
              "FIX_PRI_AMT     0\n",
              "FIX_INT_AMT     0\n",
              "IRN_INT         0\n",
              "MAX_OND         0\n",
              "SCHSEQ          0\n",
              "MDT             0\n",
              "PROVCAT         0\n",
              "PRINCIPAL       0\n",
              "OSEQ            0\n",
              "TDR             0\n",
              "DELSTAT         0\n",
              "DR              0\n",
              "PURPOSE_CODE    0\n",
              "dtype: int64"
            ]
          },
          "metadata": {},
          "execution_count": 8
        }
      ]
    },
    {
      "cell_type": "code",
      "source": [
        "data['PROVCAT2']=np.where((data[\"PROVCAT\"] < 3 ), 'G', data['PROVCAT'])\n",
        "data['PROVCAT2']=np.where((data[\"PROVCAT\"] > 2 ), 'B', data['PROVCAT2'])"
      ],
      "metadata": {
        "id": "P0VOPcM63qTv"
      },
      "execution_count": null,
      "outputs": []
    },
    {
      "cell_type": "code",
      "source": [
        "data['PROVCAT2'].unique()"
      ],
      "metadata": {
        "colab": {
          "base_uri": "https://localhost:8080/"
        },
        "id": "dartYhq930qe",
        "outputId": "b59d249e-5ddf-4119-81d1-5f791b4cbccf"
      },
      "execution_count": null,
      "outputs": [
        {
          "output_type": "execute_result",
          "data": {
            "text/plain": [
              "array(['G', 'B'], dtype=object)"
            ]
          },
          "metadata": {},
          "execution_count": 10
        }
      ]
    },
    {
      "cell_type": "code",
      "source": [
        "data['PROVCAT2'].value_counts()"
      ],
      "metadata": {
        "colab": {
          "base_uri": "https://localhost:8080/"
        },
        "id": "3GiOj3kU34Et",
        "outputId": "3a2cf716-441a-43cd-d770-cfdfb8bcb930"
      },
      "execution_count": null,
      "outputs": [
        {
          "output_type": "execute_result",
          "data": {
            "text/plain": [
              "G    176357\n",
              "B      7027\n",
              "Name: PROVCAT2, dtype: int64"
            ]
          },
          "metadata": {},
          "execution_count": 11
        }
      ]
    },
    {
      "cell_type": "code",
      "source": [
        "sns.countplot(x='PROVCAT2',data=data, palette='hls')\n",
        "plt.show()\n",
        "plt.savefig('count_plot')"
      ],
      "metadata": {
        "colab": {
          "base_uri": "https://localhost:8080/",
          "height": 302
        },
        "id": "UjKuKNDX39bV",
        "outputId": "7c44fd5d-1cd4-4bf6-a383-0ac49251511d"
      },
      "execution_count": null,
      "outputs": [
        {
          "output_type": "display_data",
          "data": {
            "image/png": "[encoded data removed]",
            "text/plain": [
              "<Figure size 432x288 with 1 Axes>"
            ]
          },
          "metadata": {
            "needs_background": "light"
          }
        },
        {
          "output_type": "display_data",
          "data": {
            "text/plain": [
              "<Figure size 432x288 with 0 Axes>"
            ]
          },
          "metadata": {}
        }
      ]
    },
    {
      "cell_type": "code",
      "source": [
        "data.groupby('PROVCAT2').mean()"
      ],
      "metadata": {
        "colab": {
          "base_uri": "https://localhost:8080/",
          "height": 163
        },
        "id": "7A1Ssh0M4B69",
        "outputId": "fc555ce5-a289-4add-bfa3-818247dc70d7"
      },
      "execution_count": null,
      "outputs": [
        {
          "output_type": "execute_result",
          "data": {
            "text/html": [
              "<div>\n",
              "<style scoped>\n",
              "    .dataframe tbody tr th:only-of-type {\n",
              "        vertical-align: middle;\n",
              "    }\n",
              "\n",
              "    .dataframe tbody tr th {\n",
              "        vertical-align: top;\n",
              "    }\n",
              "\n",
              "    .dataframe thead th {\n",
              "        text-align: right;\n",
              "    }\n",
              "</style>\n",
              "<table border=\"1\" class=\"dataframe\">\n",
              "  <thead>\n",
              "    <tr style=\"text-align: right;\">\n",
              "      <th></th>\n",
              "      <th>LN_TYPE</th>\n",
              "      <th>SUBT</th>\n",
              "      <th>MKTCD</th>\n",
              "      <th>BAL</th>\n",
              "      <th>PCM</th>\n",
              "      <th>PAMT</th>\n",
              "      <th>FIX_PRI_AMT</th>\n",
              "      <th>FIX_INT_AMT</th>\n",
              "      <th>IRN_INT</th>\n",
              "      <th>MAX_OND</th>\n",
              "      <th>SCHSEQ</th>\n",
              "      <th>MDT</th>\n",
              "      <th>PROVCAT</th>\n",
              "      <th>PRINCIPAL</th>\n",
              "      <th>TDR</th>\n",
              "      <th>DELSTAT</th>\n",
              "    </tr>\n",
              "    <tr>\n",
              "      <th>PROVCAT2</th>\n",
              "      <th></th>\n",
              "      <th></th>\n",
              "      <th></th>\n",
              "      <th></th>\n",
              "      <th></th>\n",
              "      <th></th>\n",
              "      <th></th>\n",
              "      <th></th>\n",
              "      <th></th>\n",
              "      <th></th>\n",
              "      <th></th>\n",
              "      <th></th>\n",
              "      <th></th>\n",
              "      <th></th>\n",
              "      <th></th>\n",
              "      <th></th>\n",
              "    </tr>\n",
              "  </thead>\n",
              "  <tbody>\n",
              "    <tr>\n",
              "      <th>B</th>\n",
              "      <td>7200.0</td>\n",
              "      <td>20002.010815</td>\n",
              "      <td>1040.712537</td>\n",
              "      <td>460566.090871</td>\n",
              "      <td>14.992031</td>\n",
              "      <td>7268.598133</td>\n",
              "      <td>3.183499</td>\n",
              "      <td>3.661527</td>\n",
              "      <td>8.329426</td>\n",
              "      <td>132.196528</td>\n",
              "      <td>108.002419</td>\n",
              "      <td>2.024675e+07</td>\n",
              "      <td>4.198378</td>\n",
              "      <td>734162.020236</td>\n",
              "      <td>2.795361</td>\n",
              "      <td>1.990608</td>\n",
              "    </tr>\n",
              "    <tr>\n",
              "      <th>G</th>\n",
              "      <td>7200.0</td>\n",
              "      <td>20002.040293</td>\n",
              "      <td>1058.264237</td>\n",
              "      <td>413047.031709</td>\n",
              "      <td>14.997964</td>\n",
              "      <td>5591.345493</td>\n",
              "      <td>8.905089</td>\n",
              "      <td>3.434992</td>\n",
              "      <td>6.731523</td>\n",
              "      <td>171.758501</td>\n",
              "      <td>89.504505</td>\n",
              "      <td>2.028427e+07</td>\n",
              "      <td>1.025670</td>\n",
              "      <td>740389.832007</td>\n",
              "      <td>1.152651</td>\n",
              "      <td>1.033217</td>\n",
              "    </tr>\n",
              "  </tbody>\n",
              "</table>\n",
              "</div>"
            ],
            "text/plain": [
              "          LN_TYPE          SUBT        MKTCD  ...      PRINCIPAL       TDR   DELSTAT\n",
              "PROVCAT2                                      ...                                   \n",
              "B          7200.0  20002.010815  1040.712537  ...  734162.020236  2.795361  1.990608\n",
              "G          7200.0  20002.040293  1058.264237  ...  740389.832007  1.152651  1.033217\n",
              "\n",
              "[2 rows x 16 columns]"
            ]
          },
          "metadata": {},
          "execution_count": 13
        }
      ]
    },
    {
      "cell_type": "code",
      "source": [
        "data.groupby('MKTCD').count()"
      ],
      "metadata": {
        "colab": {
          "base_uri": "https://localhost:8080/",
          "height": 446
        },
        "id": "v-A6ctjm4EPV",
        "outputId": "ddbbd86f-9c94-405e-c73b-d2ad6f4a3a95"
      },
      "execution_count": null,
      "outputs": [
        {
          "output_type": "execute_result",
          "data": {
            "text/html": [
              "<div>\n",
              "<style scoped>\n",
              "    .dataframe tbody tr th:only-of-type {\n",
              "        vertical-align: middle;\n",
              "    }\n",
              "\n",
              "    .dataframe tbody tr th {\n",
              "        vertical-align: top;\n",
              "    }\n",
              "\n",
              "    .dataframe thead th {\n",
              "        text-align: right;\n",
              "    }\n",
              "</style>\n",
              "<table border=\"1\" class=\"dataframe\">\n",
              "  <thead>\n",
              "    <tr style=\"text-align: right;\">\n",
              "      <th></th>\n",
              "      <th>LN_TYPE</th>\n",
              "      <th>SUBT</th>\n",
              "      <th>BAL</th>\n",
              "      <th>PCM</th>\n",
              "      <th>PAMT</th>\n",
              "      <th>FIX_PRI_AMT</th>\n",
              "      <th>FIX_INT_AMT</th>\n",
              "      <th>IRN_INT</th>\n",
              "      <th>MAX_OND</th>\n",
              "      <th>SCHSEQ</th>\n",
              "      <th>MDT</th>\n",
              "      <th>PROVCAT</th>\n",
              "      <th>PRINCIPAL</th>\n",
              "      <th>OSEQ</th>\n",
              "      <th>TDR</th>\n",
              "      <th>DELSTAT</th>\n",
              "      <th>DR</th>\n",
              "      <th>PURPOSE_CODE</th>\n",
              "      <th>PROVCAT2</th>\n",
              "    </tr>\n",
              "    <tr>\n",
              "      <th>MKTCD</th>\n",
              "      <th></th>\n",
              "      <th></th>\n",
              "      <th></th>\n",
              "      <th></th>\n",
              "      <th></th>\n",
              "      <th></th>\n",
              "      <th></th>\n",
              "      <th></th>\n",
              "      <th></th>\n",
              "      <th></th>\n",
              "      <th></th>\n",
              "      <th></th>\n",
              "      <th></th>\n",
              "      <th></th>\n",
              "      <th></th>\n",
              "      <th></th>\n",
              "      <th></th>\n",
              "      <th></th>\n",
              "      <th></th>\n",
              "    </tr>\n",
              "  </thead>\n",
              "  <tbody>\n",
              "    <tr>\n",
              "      <th>1035</th>\n",
              "      <td>6775</td>\n",
              "      <td>6775</td>\n",
              "      <td>6775</td>\n",
              "      <td>6775</td>\n",
              "      <td>6775</td>\n",
              "      <td>6775</td>\n",
              "      <td>6775</td>\n",
              "      <td>6775</td>\n",
              "      <td>6775</td>\n",
              "      <td>6775</td>\n",
              "      <td>6775</td>\n",
              "      <td>6775</td>\n",
              "      <td>6775</td>\n",
              "      <td>6775</td>\n",
              "      <td>6775</td>\n",
              "      <td>6775</td>\n",
              "      <td>6775</td>\n",
              "      <td>6775</td>\n",
              "      <td>6775</td>\n",
              "    </tr>\n",
              "    <tr>\n",
              "      <th>1036</th>\n",
              "      <td>10</td>\n",
              "      <td>10</td>\n",
              "      <td>10</td>\n",
              "      <td>10</td>\n",
              "      <td>10</td>\n",
              "      <td>10</td>\n",
              "      <td>10</td>\n",
              "      <td>10</td>\n",
              "      <td>10</td>\n",
              "      <td>10</td>\n",
              "      <td>10</td>\n",
              "      <td>10</td>\n",
              "      <td>10</td>\n",
              "      <td>10</td>\n",
              "      <td>10</td>\n",
              "      <td>10</td>\n",
              "      <td>10</td>\n",
              "      <td>10</td>\n",
              "      <td>10</td>\n",
              "    </tr>\n",
              "    <tr>\n",
              "      <th>1037</th>\n",
              "      <td>108255</td>\n",
              "      <td>108255</td>\n",
              "      <td>108255</td>\n",
              "      <td>108255</td>\n",
              "      <td>108255</td>\n",
              "      <td>108255</td>\n",
              "      <td>108255</td>\n",
              "      <td>108255</td>\n",
              "      <td>108255</td>\n",
              "      <td>108255</td>\n",
              "      <td>108255</td>\n",
              "      <td>108255</td>\n",
              "      <td>108255</td>\n",
              "      <td>108255</td>\n",
              "      <td>108255</td>\n",
              "      <td>108255</td>\n",
              "      <td>108255</td>\n",
              "      <td>108255</td>\n",
              "      <td>108255</td>\n",
              "    </tr>\n",
              "    <tr>\n",
              "      <th>1038</th>\n",
              "      <td>5246</td>\n",
              "      <td>5246</td>\n",
              "      <td>5246</td>\n",
              "      <td>5246</td>\n",
              "      <td>5246</td>\n",
              "      <td>5246</td>\n",
              "      <td>5246</td>\n",
              "      <td>5246</td>\n",
              "      <td>5246</td>\n",
              "      <td>5246</td>\n",
              "      <td>5246</td>\n",
              "      <td>5246</td>\n",
              "      <td>5246</td>\n",
              "      <td>5246</td>\n",
              "      <td>5246</td>\n",
              "      <td>5246</td>\n",
              "      <td>5246</td>\n",
              "      <td>5246</td>\n",
              "      <td>5246</td>\n",
              "    </tr>\n",
              "    <tr>\n",
              "      <th>1040</th>\n",
              "      <td>25128</td>\n",
              "      <td>25128</td>\n",
              "      <td>25128</td>\n",
              "      <td>25128</td>\n",
              "      <td>25128</td>\n",
              "      <td>25128</td>\n",
              "      <td>25128</td>\n",
              "      <td>25128</td>\n",
              "      <td>25128</td>\n",
              "      <td>25128</td>\n",
              "      <td>25128</td>\n",
              "      <td>25128</td>\n",
              "      <td>25128</td>\n",
              "      <td>25128</td>\n",
              "      <td>25128</td>\n",
              "      <td>25128</td>\n",
              "      <td>25128</td>\n",
              "      <td>25128</td>\n",
              "      <td>25128</td>\n",
              "    </tr>\n",
              "    <tr>\n",
              "      <th>1041</th>\n",
              "      <td>4906</td>\n",
              "      <td>4906</td>\n",
              "      <td>4906</td>\n",
              "      <td>4906</td>\n",
              "      <td>4906</td>\n",
              "      <td>4906</td>\n",
              "      <td>4906</td>\n",
              "      <td>4906</td>\n",
              "      <td>4906</td>\n",
              "      <td>4906</td>\n",
              "      <td>4906</td>\n",
              "      <td>4906</td>\n",
              "      <td>4906</td>\n",
              "      <td>4906</td>\n",
              "      <td>4906</td>\n",
              "      <td>4906</td>\n",
              "      <td>4906</td>\n",
              "      <td>4906</td>\n",
              "      <td>4906</td>\n",
              "    </tr>\n",
              "    <tr>\n",
              "      <th>1144</th>\n",
              "      <td>27953</td>\n",
              "      <td>27953</td>\n",
              "      <td>27953</td>\n",
              "      <td>27953</td>\n",
              "      <td>27953</td>\n",
              "      <td>27953</td>\n",
              "      <td>27953</td>\n",
              "      <td>27953</td>\n",
              "      <td>27953</td>\n",
              "      <td>27953</td>\n",
              "      <td>27953</td>\n",
              "      <td>27953</td>\n",
              "      <td>27953</td>\n",
              "      <td>27953</td>\n",
              "      <td>27953</td>\n",
              "      <td>27953</td>\n",
              "      <td>27953</td>\n",
              "      <td>27953</td>\n",
              "      <td>27953</td>\n",
              "    </tr>\n",
              "    <tr>\n",
              "      <th>1151</th>\n",
              "      <td>1112</td>\n",
              "      <td>1112</td>\n",
              "      <td>1112</td>\n",
              "      <td>1112</td>\n",
              "      <td>1112</td>\n",
              "      <td>1112</td>\n",
              "      <td>1112</td>\n",
              "      <td>1112</td>\n",
              "      <td>1112</td>\n",
              "      <td>1112</td>\n",
              "      <td>1112</td>\n",
              "      <td>1112</td>\n",
              "      <td>1112</td>\n",
              "      <td>1112</td>\n",
              "      <td>1112</td>\n",
              "      <td>1112</td>\n",
              "      <td>1112</td>\n",
              "      <td>1112</td>\n",
              "      <td>1112</td>\n",
              "    </tr>\n",
              "    <tr>\n",
              "      <th>1177</th>\n",
              "      <td>3887</td>\n",
              "      <td>3887</td>\n",
              "      <td>3887</td>\n",
              "      <td>3887</td>\n",
              "      <td>3887</td>\n",
              "      <td>3887</td>\n",
              "      <td>3887</td>\n",
              "      <td>3887</td>\n",
              "      <td>3887</td>\n",
              "      <td>3887</td>\n",
              "      <td>3887</td>\n",
              "      <td>3887</td>\n",
              "      <td>3887</td>\n",
              "      <td>3887</td>\n",
              "      <td>3887</td>\n",
              "      <td>3887</td>\n",
              "      <td>3887</td>\n",
              "      <td>3887</td>\n",
              "      <td>3887</td>\n",
              "    </tr>\n",
              "    <tr>\n",
              "      <th>1235</th>\n",
              "      <td>41</td>\n",
              "      <td>41</td>\n",
              "      <td>41</td>\n",
              "      <td>41</td>\n",
              "      <td>41</td>\n",
              "      <td>41</td>\n",
              "      <td>41</td>\n",
              "      <td>41</td>\n",
              "      <td>41</td>\n",
              "      <td>41</td>\n",
              "      <td>41</td>\n",
              "      <td>41</td>\n",
              "      <td>41</td>\n",
              "      <td>41</td>\n",
              "      <td>41</td>\n",
              "      <td>41</td>\n",
              "      <td>41</td>\n",
              "      <td>41</td>\n",
              "      <td>41</td>\n",
              "    </tr>\n",
              "    <tr>\n",
              "      <th>1311</th>\n",
              "      <td>71</td>\n",
              "      <td>71</td>\n",
              "      <td>71</td>\n",
              "      <td>71</td>\n",
              "      <td>71</td>\n",
              "      <td>71</td>\n",
              "      <td>71</td>\n",
              "      <td>71</td>\n",
              "      <td>71</td>\n",
              "      <td>71</td>\n",
              "      <td>71</td>\n",
              "      <td>71</td>\n",
              "      <td>71</td>\n",
              "      <td>71</td>\n",
              "      <td>71</td>\n",
              "      <td>71</td>\n",
              "      <td>71</td>\n",
              "      <td>71</td>\n",
              "      <td>71</td>\n",
              "    </tr>\n",
              "  </tbody>\n",
              "</table>\n",
              "</div>"
            ],
            "text/plain": [
              "       LN_TYPE    SUBT     BAL     PCM  ...  DELSTAT      DR  PURPOSE_CODE  PROVCAT2\n",
              "MKTCD                                   ...                                         \n",
              "1035      6775    6775    6775    6775  ...     6775    6775          6775      6775\n",
              "1036        10      10      10      10  ...       10      10            10        10\n",
              "1037    108255  108255  108255  108255  ...   108255  108255        108255    108255\n",
              "1038      5246    5246    5246    5246  ...     5246    5246          5246      5246\n",
              "1040     25128   25128   25128   25128  ...    25128   25128         25128     25128\n",
              "1041      4906    4906    4906    4906  ...     4906    4906          4906      4906\n",
              "1144     27953   27953   27953   27953  ...    27953   27953         27953     27953\n",
              "1151      1112    1112    1112    1112  ...     1112    1112          1112      1112\n",
              "1177      3887    3887    3887    3887  ...     3887    3887          3887      3887\n",
              "1235        41      41      41      41  ...       41      41            41        41\n",
              "1311        71      71      71      71  ...       71      71            71        71\n",
              "\n",
              "[11 rows x 19 columns]"
            ]
          },
          "metadata": {},
          "execution_count": 14
        }
      ]
    },
    {
      "cell_type": "code",
      "source": [
        "data.groupby('OSEQ').mean()"
      ],
      "metadata": {
        "colab": {
          "base_uri": "https://localhost:8080/",
          "height": 320
        },
        "id": "1S3EgrEu4Msm",
        "outputId": "41bebffc-d800-46a7-fcef-d424a83cf9ab"
      },
      "execution_count": null,
      "outputs": [
        {
          "output_type": "execute_result",
          "data": {
            "text/html": [
              "<div>\n",
              "<style scoped>\n",
              "    .dataframe tbody tr th:only-of-type {\n",
              "        vertical-align: middle;\n",
              "    }\n",
              "\n",
              "    .dataframe tbody tr th {\n",
              "        vertical-align: top;\n",
              "    }\n",
              "\n",
              "    .dataframe thead th {\n",
              "        text-align: right;\n",
              "    }\n",
              "</style>\n",
              "<table border=\"1\" class=\"dataframe\">\n",
              "  <thead>\n",
              "    <tr style=\"text-align: right;\">\n",
              "      <th></th>\n",
              "      <th>LN_TYPE</th>\n",
              "      <th>SUBT</th>\n",
              "      <th>MKTCD</th>\n",
              "      <th>BAL</th>\n",
              "      <th>PCM</th>\n",
              "      <th>PAMT</th>\n",
              "      <th>FIX_PRI_AMT</th>\n",
              "      <th>FIX_INT_AMT</th>\n",
              "      <th>IRN_INT</th>\n",
              "      <th>MAX_OND</th>\n",
              "      <th>SCHSEQ</th>\n",
              "      <th>MDT</th>\n",
              "      <th>PROVCAT</th>\n",
              "      <th>PRINCIPAL</th>\n",
              "      <th>TDR</th>\n",
              "      <th>DELSTAT</th>\n",
              "    </tr>\n",
              "    <tr>\n",
              "      <th>OSEQ</th>\n",
              "      <th></th>\n",
              "      <th></th>\n",
              "      <th></th>\n",
              "      <th></th>\n",
              "      <th></th>\n",
              "      <th></th>\n",
              "      <th></th>\n",
              "      <th></th>\n",
              "      <th></th>\n",
              "      <th></th>\n",
              "      <th></th>\n",
              "      <th></th>\n",
              "      <th></th>\n",
              "      <th></th>\n",
              "      <th></th>\n",
              "      <th></th>\n",
              "    </tr>\n",
              "  </thead>\n",
              "  <tbody>\n",
              "    <tr>\n",
              "      <th>0</th>\n",
              "      <td>7200.0</td>\n",
              "      <td>20002.055291</td>\n",
              "      <td>1064.751864</td>\n",
              "      <td>413862.180064</td>\n",
              "      <td>14.998122</td>\n",
              "      <td>5625.178172</td>\n",
              "      <td>1.082948</td>\n",
              "      <td>0.736538</td>\n",
              "      <td>6.510931</td>\n",
              "      <td>182.543073</td>\n",
              "      <td>86.895243</td>\n",
              "      <td>2.029375e+07</td>\n",
              "      <td>1.004790</td>\n",
              "      <td>738503.548578</td>\n",
              "      <td>0.793024</td>\n",
              "      <td>1.022016</td>\n",
              "    </tr>\n",
              "    <tr>\n",
              "      <th>1</th>\n",
              "      <td>7200.0</td>\n",
              "      <td>20002.003124</td>\n",
              "      <td>1042.894049</td>\n",
              "      <td>397787.237395</td>\n",
              "      <td>14.997950</td>\n",
              "      <td>5497.160409</td>\n",
              "      <td>0.986703</td>\n",
              "      <td>1.189552</td>\n",
              "      <td>7.236138</td>\n",
              "      <td>145.392612</td>\n",
              "      <td>94.044065</td>\n",
              "      <td>2.026128e+07</td>\n",
              "      <td>1.008648</td>\n",
              "      <td>735259.227663</td>\n",
              "      <td>1.739934</td>\n",
              "      <td>1.048589</td>\n",
              "    </tr>\n",
              "    <tr>\n",
              "      <th>2</th>\n",
              "      <td>7200.0</td>\n",
              "      <td>20002.002704</td>\n",
              "      <td>1039.476119</td>\n",
              "      <td>470824.876160</td>\n",
              "      <td>14.997897</td>\n",
              "      <td>5497.389028</td>\n",
              "      <td>208.460743</td>\n",
              "      <td>69.387722</td>\n",
              "      <td>7.395554</td>\n",
              "      <td>144.712526</td>\n",
              "      <td>103.439171</td>\n",
              "      <td>2.026038e+07</td>\n",
              "      <td>1.027636</td>\n",
              "      <td>801631.353710</td>\n",
              "      <td>3.074647</td>\n",
              "      <td>1.068038</td>\n",
              "    </tr>\n",
              "    <tr>\n",
              "      <th>3</th>\n",
              "      <td>7200.0</td>\n",
              "      <td>20002.003691</td>\n",
              "      <td>1039.301138</td>\n",
              "      <td>475062.270000</td>\n",
              "      <td>14.995694</td>\n",
              "      <td>5803.512971</td>\n",
              "      <td>0.461396</td>\n",
              "      <td>0.553676</td>\n",
              "      <td>7.518800</td>\n",
              "      <td>143.380806</td>\n",
              "      <td>103.581360</td>\n",
              "      <td>2.025949e+07</td>\n",
              "      <td>2.012919</td>\n",
              "      <td>775985.918782</td>\n",
              "      <td>3.296832</td>\n",
              "      <td>1.103968</td>\n",
              "    </tr>\n",
              "    <tr>\n",
              "      <th>4</th>\n",
              "      <td>7200.0</td>\n",
              "      <td>20002.003067</td>\n",
              "      <td>1039.805215</td>\n",
              "      <td>403007.980928</td>\n",
              "      <td>14.990031</td>\n",
              "      <td>4599.547347</td>\n",
              "      <td>4.187255</td>\n",
              "      <td>1.410905</td>\n",
              "      <td>7.559613</td>\n",
              "      <td>136.039110</td>\n",
              "      <td>102.272239</td>\n",
              "      <td>2.025450e+07</td>\n",
              "      <td>2.055215</td>\n",
              "      <td>690374.769939</td>\n",
              "      <td>3.386503</td>\n",
              "      <td>1.648773</td>\n",
              "    </tr>\n",
              "    <tr>\n",
              "      <th>5</th>\n",
              "      <td>7200.0</td>\n",
              "      <td>20002.001706</td>\n",
              "      <td>1040.822526</td>\n",
              "      <td>326243.805068</td>\n",
              "      <td>15.000000</td>\n",
              "      <td>4336.939744</td>\n",
              "      <td>1.860068</td>\n",
              "      <td>1.552901</td>\n",
              "      <td>7.636382</td>\n",
              "      <td>127.580205</td>\n",
              "      <td>102.486348</td>\n",
              "      <td>2.024407e+07</td>\n",
              "      <td>2.974403</td>\n",
              "      <td>647269.732082</td>\n",
              "      <td>2.994881</td>\n",
              "      <td>1.984642</td>\n",
              "    </tr>\n",
              "    <tr>\n",
              "      <th>&gt;5</th>\n",
              "      <td>7200.0</td>\n",
              "      <td>20002.012383</td>\n",
              "      <td>1040.837659</td>\n",
              "      <td>467272.318222</td>\n",
              "      <td>14.990500</td>\n",
              "      <td>7841.790397</td>\n",
              "      <td>3.609915</td>\n",
              "      <td>4.210271</td>\n",
              "      <td>8.457198</td>\n",
              "      <td>132.106192</td>\n",
              "      <td>108.757930</td>\n",
              "      <td>2.024482e+07</td>\n",
              "      <td>4.400170</td>\n",
              "      <td>739524.114198</td>\n",
              "      <td>2.761662</td>\n",
              "      <td>1.999830</td>\n",
              "    </tr>\n",
              "  </tbody>\n",
              "</table>\n",
              "</div>"
            ],
            "text/plain": [
              "      LN_TYPE          SUBT        MKTCD  ...      PRINCIPAL       TDR   DELSTAT\n",
              "OSEQ                                      ...                                   \n",
              "0      7200.0  20002.055291  1064.751864  ...  738503.548578  0.793024  1.022016\n",
              "1      7200.0  20002.003124  1042.894049  ...  735259.227663  1.739934  1.048589\n",
              "2      7200.0  20002.002704  1039.476119  ...  801631.353710  3.074647  1.068038\n",
              "3      7200.0  20002.003691  1039.301138  ...  775985.918782  3.296832  1.103968\n",
              "4      7200.0  20002.003067  1039.805215  ...  690374.769939  3.386503  1.648773\n",
              "5      7200.0  20002.001706  1040.822526  ...  647269.732082  2.994881  1.984642\n",
              ">5     7200.0  20002.012383  1040.837659  ...  739524.114198  2.761662  1.999830\n",
              "\n",
              "[7 rows x 16 columns]"
            ]
          },
          "metadata": {},
          "execution_count": 15
        }
      ]
    },
    {
      "cell_type": "code",
      "source": [
        "data.groupby('PCM').mean()"
      ],
      "metadata": {
        "colab": {
          "base_uri": "https://localhost:8080/",
          "height": 194
        },
        "id": "WIDGaECZ4Pu1",
        "outputId": "36b3761e-2ac6-4a70-abfb-43c716909353"
      },
      "execution_count": null,
      "outputs": [
        {
          "output_type": "execute_result",
          "data": {
            "text/html": [
              "<div>\n",
              "<style scoped>\n",
              "    .dataframe tbody tr th:only-of-type {\n",
              "        vertical-align: middle;\n",
              "    }\n",
              "\n",
              "    .dataframe tbody tr th {\n",
              "        vertical-align: top;\n",
              "    }\n",
              "\n",
              "    .dataframe thead th {\n",
              "        text-align: right;\n",
              "    }\n",
              "</style>\n",
              "<table border=\"1\" class=\"dataframe\">\n",
              "  <thead>\n",
              "    <tr style=\"text-align: right;\">\n",
              "      <th></th>\n",
              "      <th>LN_TYPE</th>\n",
              "      <th>SUBT</th>\n",
              "      <th>MKTCD</th>\n",
              "      <th>BAL</th>\n",
              "      <th>PAMT</th>\n",
              "      <th>FIX_PRI_AMT</th>\n",
              "      <th>FIX_INT_AMT</th>\n",
              "      <th>IRN_INT</th>\n",
              "      <th>MAX_OND</th>\n",
              "      <th>SCHSEQ</th>\n",
              "      <th>MDT</th>\n",
              "      <th>PROVCAT</th>\n",
              "      <th>PRINCIPAL</th>\n",
              "      <th>TDR</th>\n",
              "      <th>DELSTAT</th>\n",
              "    </tr>\n",
              "    <tr>\n",
              "      <th>PCM</th>\n",
              "      <th></th>\n",
              "      <th></th>\n",
              "      <th></th>\n",
              "      <th></th>\n",
              "      <th></th>\n",
              "      <th></th>\n",
              "      <th></th>\n",
              "      <th></th>\n",
              "      <th></th>\n",
              "      <th></th>\n",
              "      <th></th>\n",
              "      <th></th>\n",
              "      <th></th>\n",
              "      <th></th>\n",
              "      <th></th>\n",
              "    </tr>\n",
              "  </thead>\n",
              "  <tbody>\n",
              "    <tr>\n",
              "      <th>1</th>\n",
              "      <td>7200.0</td>\n",
              "      <td>20002.00000</td>\n",
              "      <td>1037.240000</td>\n",
              "      <td>857589.172800</td>\n",
              "      <td>9002.80000</td>\n",
              "      <td>5479.48120</td>\n",
              "      <td>3993.438800</td>\n",
              "      <td>7.280000</td>\n",
              "      <td>155.92000</td>\n",
              "      <td>110.600000</td>\n",
              "      <td>2.026595e+07</td>\n",
              "      <td>1.560000</td>\n",
              "      <td>1.085200e+06</td>\n",
              "      <td>2.840000</td>\n",
              "      <td>1.360000</td>\n",
              "    </tr>\n",
              "    <tr>\n",
              "      <th>2</th>\n",
              "      <td>7200.0</td>\n",
              "      <td>20002.00000</td>\n",
              "      <td>1079.800000</td>\n",
              "      <td>789030.378000</td>\n",
              "      <td>892.00000</td>\n",
              "      <td>2560.00000</td>\n",
              "      <td>0.000000</td>\n",
              "      <td>2.770000</td>\n",
              "      <td>249.40000</td>\n",
              "      <td>83.200000</td>\n",
              "      <td>2.035856e+07</td>\n",
              "      <td>1.200000</td>\n",
              "      <td>1.033400e+06</td>\n",
              "      <td>1.600000</td>\n",
              "      <td>1.000000</td>\n",
              "    </tr>\n",
              "    <tr>\n",
              "      <th>15</th>\n",
              "      <td>7200.0</td>\n",
              "      <td>20002.03917</td>\n",
              "      <td>1057.593851</td>\n",
              "      <td>414797.323268</td>\n",
              "      <td>5655.28882</td>\n",
              "      <td>7.87034</td>\n",
              "      <td>2.899737</td>\n",
              "      <td>6.792795</td>\n",
              "      <td>170.24234</td>\n",
              "      <td>90.210729</td>\n",
              "      <td>2.028284e+07</td>\n",
              "      <td>1.147185</td>\n",
              "      <td>7.400961e+05</td>\n",
              "      <td>1.215365</td>\n",
              "      <td>1.069865</td>\n",
              "    </tr>\n",
              "  </tbody>\n",
              "</table>\n",
              "</div>"
            ],
            "text/plain": [
              "     LN_TYPE         SUBT        MKTCD  ...     PRINCIPAL       TDR   DELSTAT\n",
              "PCM                                     ...                                  \n",
              "1     7200.0  20002.00000  1037.240000  ...  1.085200e+06  2.840000  1.360000\n",
              "2     7200.0  20002.00000  1079.800000  ...  1.033400e+06  1.600000  1.000000\n",
              "15    7200.0  20002.03917  1057.593851  ...  7.400961e+05  1.215365  1.069865\n",
              "\n",
              "[3 rows x 15 columns]"
            ]
          },
          "metadata": {},
          "execution_count": 16
        }
      ]
    },
    {
      "cell_type": "code",
      "source": [
        "%matplotlib inline\n",
        "pd.crosstab(data.MKTCD,data.PROVCAT2).plot(kind='bar')\n",
        "plt.title('Purchase Frequency for MKTCD Title')\n",
        "plt.xlabel('MKTCD')\n",
        "plt.ylabel('Frequency of Purchase')\n",
        "plt.savefig('purchase_fre_MKTCD')"
      ],
      "metadata": {
        "colab": {
          "base_uri": "https://localhost:8080/",
          "height": 319
        },
        "id": "KOWwqJRA4Vjs",
        "outputId": "9564d8f5-bd8a-4ac8-d995-184120552f5a"
      },
      "execution_count": null,
      "outputs": [
        {
          "output_type": "display_data",
          "data": {
            "image/png": "[encoded data removed]",
            "text/plain": [
              "<Figure size 432x288 with 1 Axes>"
            ]
          },
          "metadata": {
            "needs_background": "light"
          }
        }
      ]
    },
    {
      "cell_type": "code",
      "source": [
        "table=pd.crosstab(data.PCM,data.PROVCAT2 )\n",
        "table.div(table.sum(1).astype(float), axis=0).plot(kind='bar', stacked=True)\n",
        "plt.title('Stacked Bar Chart of Marital Status vs Purchase')\n",
        "plt.xlabel('PCM')\n",
        "plt.ylabel('Proportion of Customers')\n",
        "plt.savefig('PCM')"
      ],
      "metadata": {
        "colab": {
          "base_uri": "https://localhost:8080/",
          "height": 305
        },
        "id": "oARjsCvM4bGe",
        "outputId": "906398b5-b158-45fc-b2a6-e8f342920a3b"
      },
      "execution_count": null,
      "outputs": [
        {
          "output_type": "display_data",
          "data": {
            "image/png": "[encoded data removed]",
            "text/plain": [
              "<Figure size 432x288 with 1 Axes>"
            ]
          },
          "metadata": {
            "needs_background": "light"
          }
        }
      ]
    },
    {
      "cell_type": "code",
      "source": [
        "data.OSEQ.unique()"
      ],
      "metadata": {
        "colab": {
          "base_uri": "https://localhost:8080/"
        },
        "id": "dEGzKFR14iPl",
        "outputId": "555ec0d1-1bc5-4691-90d9-349395ed3d88"
      },
      "execution_count": null,
      "outputs": [
        {
          "output_type": "execute_result",
          "data": {
            "text/plain": [
              "array([0, 5, 1, '>5', 2, 3, 4], dtype=object)"
            ]
          },
          "metadata": {},
          "execution_count": 19
        }
      ]
    },
    {
      "cell_type": "code",
      "source": [
        "data.TDR.unique()"
      ],
      "metadata": {
        "colab": {
          "base_uri": "https://localhost:8080/"
        },
        "id": "3s4dzJz-4lv9",
        "outputId": "99899d28-ff9e-478d-c855-63855afc1cff"
      },
      "execution_count": null,
      "outputs": [
        {
          "output_type": "execute_result",
          "data": {
            "text/plain": [
              "array([4, 5, 3, 1, 2, 0])"
            ]
          },
          "metadata": {},
          "execution_count": 20
        }
      ]
    },
    {
      "cell_type": "code",
      "source": [
        "%matplotlib inline\n",
        "pd.crosstab(data.TDR,data.PROVCAT2).plot(kind='bar')\n",
        "plt.title('Purchase Frequency for TDR Title')\n",
        "plt.xlabel('TDR')\n",
        "plt.ylabel('Frequency of Purchase')\n",
        "plt.savefig('purchase_fre_TDR')"
      ],
      "metadata": {
        "colab": {
          "base_uri": "https://localhost:8080/",
          "height": 298
        },
        "id": "03cOSU084qCV",
        "outputId": "f854dca0-e768-4ee4-caf9-5d49d5acd3ff"
      },
      "execution_count": null,
      "outputs": [
        {
          "output_type": "display_data",
          "data": {
            "image/png": "[encoded data removed]",
            "text/plain": [
              "<Figure size 432x288 with 1 Axes>"
            ]
          },
          "metadata": {
            "needs_background": "light"
          }
        }
      ]
    },
    {
      "cell_type": "code",
      "source": [
        "%matplotlib inline\n",
        "pd.crosstab(data.OSEQ,data.PROVCAT2).plot(kind='bar')\n",
        "plt.title('Purchase Frequency for TDR Title')\n",
        "plt.xlabel('TDR')\n",
        "plt.ylabel('Frequency of Purchase')\n",
        "plt.savefig('purchase_fre_TDR')"
      ],
      "metadata": {
        "colab": {
          "base_uri": "https://localhost:8080/",
          "height": 307
        },
        "id": "bGR_VqML4wj9",
        "outputId": "9a0cf46f-2cc1-4397-93a6-eb7561d6c3b0"
      },
      "execution_count": null,
      "outputs": [
        {
          "output_type": "display_data",
          "data": {
            "image/png": "[encoded data removed]",
            "text/plain": [
              "<Figure size 432x288 with 1 Axes>"
            ]
          },
          "metadata": {
            "needs_background": "light"
          }
        }
      ]
    },
    {
      "cell_type": "code",
      "source": [
        "cat_vars=['MKTCD','PCM','OSEQ','TDR','DR','PURPOSE_CODE']\n",
        "for var in cat_vars:\n",
        "    cat_list='var'+'_'+var\n",
        "    print(\"Line 4 = \",cat_list)\n",
        "    cat_list = pd.get_dummies(data[var], prefix=var)\n",
        "    #print(\"Line 6 = \",cat_list)\n",
        "    data1 = data.join(cat_list)\n",
        "    #print(\"Line 8 = \",data1)\n",
        "    data=data1"
      ],
      "metadata": {
        "colab": {
          "base_uri": "https://localhost:8080/"
        },
        "id": "QtshVD8U4zW9",
        "outputId": "d3459757-bd37-47b8-f5ac-66edc657be39"
      },
      "execution_count": null,
      "outputs": [
        {
          "output_type": "stream",
          "name": "stdout",
          "text": [
            "Line 4 =  var_MKTCD\n",
            "Line 4 =  var_PCM\n",
            "Line 4 =  var_OSEQ\n",
            "Line 4 =  var_TDR\n",
            "Line 4 =  var_DR\n",
            "Line 4 =  var_PURPOSE_CODE\n"
          ]
        }
      ]
    },
    {
      "cell_type": "code",
      "source": [
        "cat_vars=['MKTCD','PCM','OSEQ','TDR','DR','PURPOSE_CODE']\n",
        "data_vars=data.columns.values.tolist()\n",
        "to_keep=[i for i in data_vars if i not in cat_vars]"
      ],
      "metadata": {
        "id": "1486MSUm46-Z"
      },
      "execution_count": null,
      "outputs": []
    },
    {
      "cell_type": "code",
      "source": [
        "data_final=data[to_keep]\n",
        "data_final.columns.values"
      ],
      "metadata": {
        "colab": {
          "base_uri": "https://localhost:8080/"
        },
        "id": "iVvG8FRQ5BbK",
        "outputId": "8da8d77e-56f5-45ee-d773-4989eaf74942"
      },
      "execution_count": null,
      "outputs": [
        {
          "output_type": "execute_result",
          "data": {
            "text/plain": [
              "array(['LN_TYPE', 'SUBT', 'BAL', 'PAMT', 'FIX_PRI_AMT', 'FIX_INT_AMT',\n",
              "       'IRN_INT', 'MAX_OND', 'SCHSEQ', 'MDT', 'PROVCAT', 'PRINCIPAL',\n",
              "       'DELSTAT', 'PROVCAT2', 'MKTCD_1035', 'MKTCD_1036', 'MKTCD_1037',\n",
              "       'MKTCD_1038', 'MKTCD_1040', 'MKTCD_1041', 'MKTCD_1144',\n",
              "       'MKTCD_1151', 'MKTCD_1177', 'MKTCD_1235', 'MKTCD_1311', 'PCM_1',\n",
              "       'PCM_2', 'PCM_15', 'OSEQ_0', 'OSEQ_1', 'OSEQ_2', 'OSEQ_3',\n",
              "       'OSEQ_4', 'OSEQ_5', 'OSEQ_>5', 'TDR_0', 'TDR_1', 'TDR_2', 'TDR_3',\n",
              "       'TDR_4', 'TDR_5', 'DR_N', 'DR_Y', 'PURPOSE_CODE_HAVE',\n",
              "       'PURPOSE_CODE_NO'], dtype=object)"
            ]
          },
          "metadata": {},
          "execution_count": 25
        }
      ]
    },
    {
      "cell_type": "code",
      "source": [
        "data_final_vars=data_final.columns.values.tolist()\n",
        "y=['PROVCAT2']\n",
        "x=[i for i in data_final_vars if i not in y]\n",
        "print(len(x))"
      ],
      "metadata": {
        "colab": {
          "base_uri": "https://localhost:8080/"
        },
        "id": "lslBVpLN5HdF",
        "outputId": "87716407-a4e0-47b5-8dd4-5434c0780fbe"
      },
      "execution_count": null,
      "outputs": [
        {
          "output_type": "stream",
          "name": "stdout",
          "text": [
            "44\n"
          ]
        }
      ]
    },
    {
      "cell_type": "code",
      "source": [
        "from sklearn import datasets\n",
        "from sklearn.feature_selection import RFE\n",
        "from sklearn.linear_model import LogisticRegression\n",
        "\n",
        "logreg = LogisticRegression()\n",
        "\n",
        "rfe = RFE(logreg, n_features_to_select=None, step=1)\n",
        "rfe = rfe.fit(data_final[x], data_final[y])"
      ],
      "metadata": {
        "colab": {
          "base_uri": "https://localhost:8080/"
        },
        "id": "qO2ZwiDO5Kyk",
        "outputId": "df2bf13a-8c5c-47a6-b479-d330009a4163"
      },
      "execution_count": null,
      "outputs": [
        {
          "output_type": "stream",
          "name": "stderr",
          "text": [
            "/usr/local/lib/python3.7/dist-packages/sklearn/utils/validation.py:985: DataConversionWarning: A column-vector y was passed when a 1d array was expected. Please change the shape of y to (n_samples, ), for example using ravel().\n",
            "  y = column_or_1d(y, warn=True)\n",
            "/usr/local/lib/python3.7/dist-packages/sklearn/utils/validation.py:985: DataConversionWarning: A column-vector y was passed when a 1d array was expected. Please change the shape of y to (n_samples, ), for example using ravel().\n",
            "  y = column_or_1d(y, warn=True)\n",
            "/usr/local/lib/python3.7/dist-packages/sklearn/utils/validation.py:985: DataConversionWarning: A column-vector y was passed when a 1d array was expected. Please change the shape of y to (n_samples, ), for example using ravel().\n",
            "  y = column_or_1d(y, warn=True)\n",
            "/usr/local/lib/python3.7/dist-packages/sklearn/utils/validation.py:985: DataConversionWarning: A column-vector y was passed when a 1d array was expected. Please change the shape of y to (n_samples, ), for example using ravel().\n",
            "  y = column_or_1d(y, warn=True)\n",
            "/usr/local/lib/python3.7/dist-packages/sklearn/utils/validation.py:985: DataConversionWarning: A column-vector y was passed when a 1d array was expected. Please change the shape of y to (n_samples, ), for example using ravel().\n",
            "  y = column_or_1d(y, warn=True)\n",
            "/usr/local/lib/python3.7/dist-packages/sklearn/utils/validation.py:985: DataConversionWarning: A column-vector y was passed when a 1d array was expected. Please change the shape of y to (n_samples, ), for example using ravel().\n",
            "  y = column_or_1d(y, warn=True)\n",
            "/usr/local/lib/python3.7/dist-packages/sklearn/utils/validation.py:985: DataConversionWarning: A column-vector y was passed when a 1d array was expected. Please change the shape of y to (n_samples, ), for example using ravel().\n",
            "  y = column_or_1d(y, warn=True)\n",
            "/usr/local/lib/python3.7/dist-packages/sklearn/utils/validation.py:985: DataConversionWarning: A column-vector y was passed when a 1d array was expected. Please change the shape of y to (n_samples, ), for example using ravel().\n",
            "  y = column_or_1d(y, warn=True)\n",
            "/usr/local/lib/python3.7/dist-packages/sklearn/utils/validation.py:985: DataConversionWarning: A column-vector y was passed when a 1d array was expected. Please change the shape of y to (n_samples, ), for example using ravel().\n",
            "  y = column_or_1d(y, warn=True)\n",
            "/usr/local/lib/python3.7/dist-packages/sklearn/utils/validation.py:985: DataConversionWarning: A column-vector y was passed when a 1d array was expected. Please change the shape of y to (n_samples, ), for example using ravel().\n",
            "  y = column_or_1d(y, warn=True)\n",
            "/usr/local/lib/python3.7/dist-packages/sklearn/utils/validation.py:985: DataConversionWarning: A column-vector y was passed when a 1d array was expected. Please change the shape of y to (n_samples, ), for example using ravel().\n",
            "  y = column_or_1d(y, warn=True)\n",
            "/usr/local/lib/python3.7/dist-packages/sklearn/utils/validation.py:985: DataConversionWarning: A column-vector y was passed when a 1d array was expected. Please change the shape of y to (n_samples, ), for example using ravel().\n",
            "  y = column_or_1d(y, warn=True)\n",
            "/usr/local/lib/python3.7/dist-packages/sklearn/utils/validation.py:985: DataConversionWarning: A column-vector y was passed when a 1d array was expected. Please change the shape of y to (n_samples, ), for example using ravel().\n",
            "  y = column_or_1d(y, warn=True)\n",
            "/usr/local/lib/python3.7/dist-packages/sklearn/utils/validation.py:985: DataConversionWarning: A column-vector y was passed when a 1d array was expected. Please change the shape of y to (n_samples, ), for example using ravel().\n",
            "  y = column_or_1d(y, warn=True)\n",
            "/usr/local/lib/python3.7/dist-packages/sklearn/utils/validation.py:985: DataConversionWarning: A column-vector y was passed when a 1d array was expected. Please change the shape of y to (n_samples, ), for example using ravel().\n",
            "  y = column_or_1d(y, warn=True)\n",
            "/usr/local/lib/python3.7/dist-packages/sklearn/utils/validation.py:985: DataConversionWarning: A column-vector y was passed when a 1d array was expected. Please change the shape of y to (n_samples, ), for example using ravel().\n",
            "  y = column_or_1d(y, warn=True)\n",
            "/usr/local/lib/python3.7/dist-packages/sklearn/utils/validation.py:985: DataConversionWarning: A column-vector y was passed when a 1d array was expected. Please change the shape of y to (n_samples, ), for example using ravel().\n",
            "  y = column_or_1d(y, warn=True)\n",
            "/usr/local/lib/python3.7/dist-packages/sklearn/utils/validation.py:985: DataConversionWarning: A column-vector y was passed when a 1d array was expected. Please change the shape of y to (n_samples, ), for example using ravel().\n",
            "  y = column_or_1d(y, warn=True)\n",
            "/usr/local/lib/python3.7/dist-packages/sklearn/utils/validation.py:985: DataConversionWarning: A column-vector y was passed when a 1d array was expected. Please change the shape of y to (n_samples, ), for example using ravel().\n",
            "  y = column_or_1d(y, warn=True)\n",
            "/usr/local/lib/python3.7/dist-packages/sklearn/utils/validation.py:985: DataConversionWarning: A column-vector y was passed when a 1d array was expected. Please change the shape of y to (n_samples, ), for example using ravel().\n",
            "  y = column_or_1d(y, warn=True)\n",
            "/usr/local/lib/python3.7/dist-packages/sklearn/utils/validation.py:985: DataConversionWarning: A column-vector y was passed when a 1d array was expected. Please change the shape of y to (n_samples, ), for example using ravel().\n",
            "  y = column_or_1d(y, warn=True)\n",
            "/usr/local/lib/python3.7/dist-packages/sklearn/utils/validation.py:985: DataConversionWarning: A column-vector y was passed when a 1d array was expected. Please change the shape of y to (n_samples, ), for example using ravel().\n",
            "  y = column_or_1d(y, warn=True)\n",
            "/usr/local/lib/python3.7/dist-packages/sklearn/utils/validation.py:985: DataConversionWarning: A column-vector y was passed when a 1d array was expected. Please change the shape of y to (n_samples, ), for example using ravel().\n",
            "  y = column_or_1d(y, warn=True)\n"
          ]
        }
      ]
    },
    {
      "cell_type": "code",
      "source": [
        "print(rfe.support_)\n",
        "print(rfe.ranking_)\n",
        "print(rfe.get_feature_names_out())"
      ],
      "metadata": {
        "colab": {
          "base_uri": "https://localhost:8080/"
        },
        "id": "zxSsTcNY5rrC",
        "outputId": "60594f5c-18e4-4042-999d-6cde88d4bd06"
      },
      "execution_count": null,
      "outputs": [
        {
          "output_type": "stream",
          "name": "stdout",
          "text": [
            "[ True  True  True  True  True  True  True  True  True  True  True  True\n",
            "  True False False False False  True False  True False False False False\n",
            " False False False  True  True False False False  True  True  True False\n",
            " False False  True  True False False False False]\n",
            "[ 1  1  1  1  1  1  1  1  1  1  1  1  1  6 20  2 10  1  8  1 14 13 21 18\n",
            " 19 23 17  1  1  5 11 15  1  1  1 12  7  9  1  1 22 16  3  4]\n",
            "['LN_TYPE' 'SUBT' 'BAL' 'PAMT' 'FIX_PRI_AMT' 'FIX_INT_AMT' 'IRN_INT'\n",
            " 'MAX_OND' 'SCHSEQ' 'MDT' 'PROVCAT' 'PRINCIPAL' 'DELSTAT' 'MKTCD_1040'\n",
            " 'MKTCD_1144' 'OSEQ_0' 'OSEQ_1' 'OSEQ_5' 'OSEQ_>5' 'TDR_0' 'TDR_4' 'TDR_5']\n"
          ]
        }
      ]
    },
    {
      "cell_type": "code",
      "source": [
        "cols = rfe.get_feature_names_out()\n",
        "X=data_final[cols]\n",
        "y=data_final['PROVCAT2']\n",
        "import pprint\n",
        "print(X.head())"
      ],
      "metadata": {
        "colab": {
          "base_uri": "https://localhost:8080/"
        },
        "id": "YaUTORw65yoR",
        "outputId": "052b41ec-a7cd-4704-b260-351cefd5f11f"
      },
      "execution_count": null,
      "outputs": [
        {
          "output_type": "stream",
          "name": "stdout",
          "text": [
            "   LN_TYPE   SUBT         BAL    PAMT  ...  OSEQ_>5  TDR_0  TDR_4  TDR_5\n",
            "0     7200  20002   551504.88  4000.0  ...        0      0      1      0\n",
            "1     7200  20002    39211.72  8200.0  ...        0      0      0      1\n",
            "2     7200  20002    86848.10  2600.0  ...        0      0      1      0\n",
            "3     7200  20002  1286040.87  5300.0  ...        0      0      1      0\n",
            "4     7200  20002   945067.81  8000.0  ...        0      0      1      0\n",
            "\n",
            "[5 rows x 22 columns]\n"
          ]
        }
      ]
    },
    {
      "cell_type": "code",
      "source": [
        "X_train, X_test, y_train, y_test = train_test_split(X, y, test_size=0.2, random_state=123, stratify=y)\n",
        "print(y_train.shape)\n",
        "print(X_test.shape)\n",
        "from sklearn.linear_model import LogisticRegression\n",
        "from sklearn import metrics\n",
        "logreg = LogisticRegression()\n",
        "logreg.fit(X_train, y_train)"
      ],
      "metadata": {
        "colab": {
          "base_uri": "https://localhost:8080/"
        },
        "id": "NACwMEtO6KQQ",
        "outputId": "36112de5-adcf-4af7-c550-8dc2c6407784"
      },
      "execution_count": null,
      "outputs": [
        {
          "output_type": "stream",
          "name": "stdout",
          "text": [
            "(146707,)\n",
            "(36677, 22)\n"
          ]
        },
        {
          "output_type": "execute_result",
          "data": {
            "text/plain": [
              "LogisticRegression()"
            ]
          },
          "metadata": {},
          "execution_count": 30
        }
      ]
    },
    {
      "cell_type": "code",
      "source": [
        "y_pred = logreg.predict(X_test)\n",
        "print(y_pred)"
      ],
      "metadata": {
        "colab": {
          "base_uri": "https://localhost:8080/"
        },
        "id": "_QkUHiyH6Shp",
        "outputId": "c07607e4-5a92-4b56-c3ab-76b917a1a54b"
      },
      "execution_count": null,
      "outputs": [
        {
          "output_type": "stream",
          "name": "stdout",
          "text": [
            "['G' 'G' 'G' ... 'G' 'G' 'G']\n"
          ]
        }
      ]
    },
    {
      "cell_type": "code",
      "source": [
        "from sklearn import model_selection\n",
        "from sklearn.model_selection import cross_val_score\n",
        "kfold = model_selection.KFold(n_splits=10, random_state=7, shuffle=True)\n",
        "modelCV = LogisticRegression()\n",
        "scoring = 'accuracy'\n",
        "results = model_selection.cross_val_score(modelCV, X_train, y_train, cv=kfold, scoring=scoring)\n",
        "print(\"10-fold cross validation average accuracy: %.3f\" % (results.mean()))"
      ],
      "metadata": {
        "colab": {
          "base_uri": "https://localhost:8080/"
        },
        "id": "L_glFI-w6ZSC",
        "outputId": "dc52b499-6c94-4c32-dabf-58a93339658a"
      },
      "execution_count": null,
      "outputs": [
        {
          "output_type": "stream",
          "name": "stderr",
          "text": [
            "/usr/local/lib/python3.7/dist-packages/sklearn/linear_model/_logistic.py:818: ConvergenceWarning: lbfgs failed to converge (status=1):\n",
            "STOP: TOTAL NO. of ITERATIONS REACHED LIMIT.\n",
            "\n",
            "Increase the number of iterations (max_iter) or scale the data as shown in:\n",
            "    https://scikit-learn.org/stable/modules/preprocessing.html\n",
            "Please also refer to the documentation for alternative solver options:\n",
            "    https://scikit-learn.org/stable/modules/linear_model.html#logistic-regression\n",
            "  extra_warning_msg=_LOGISTIC_SOLVER_CONVERGENCE_MSG,\n"
          ]
        },
        {
          "output_type": "stream",
          "name": "stdout",
          "text": [
            "10-fold cross validation average accuracy: 0.962\n"
          ]
        }
      ]
    },
    {
      "cell_type": "code",
      "source": [
        "from sklearn.metrics import classification_report\n",
        "print(classification_report(y_test, y_pred))"
      ],
      "metadata": {
        "colab": {
          "base_uri": "https://localhost:8080/"
        },
        "id": "UQmEeIOH6uE-",
        "outputId": "0b6d98e3-cd5b-4950-88f6-6e0050af977a"
      },
      "execution_count": null,
      "outputs": [
        {
          "output_type": "stream",
          "name": "stdout",
          "text": [
            "              precision    recall  f1-score   support\n",
            "\n",
            "           B       0.75      0.00      0.00      1405\n",
            "           G       0.96      1.00      0.98     35272\n",
            "\n",
            "    accuracy                           0.96     36677\n",
            "   macro avg       0.86      0.50      0.49     36677\n",
            "weighted avg       0.95      0.96      0.94     36677\n",
            "\n"
          ]
        }
      ]
    },
    {
      "cell_type": "code",
      "source": [
        "from sklearn.ensemble import RandomForestClassifier\n",
        "clf2 = RandomForestClassifier(n_estimators=3, max_depth=None,min_samples_split=2, random_state=0)\n",
        "clf2.fit(X_train, y_train)\n",
        "y_pred2 = clf2.predict(X_test)\n",
        "print(y_pred2)"
      ],
      "metadata": {
        "colab": {
          "base_uri": "https://localhost:8080/"
        },
        "id": "GptYsqZr68Kg",
        "outputId": "f87f8e34-4a68-41d1-fd2f-981410ba8ae4"
      },
      "execution_count": null,
      "outputs": [
        {
          "output_type": "stream",
          "name": "stdout",
          "text": [
            "['G' 'G' 'G' ... 'G' 'G' 'G']\n"
          ]
        }
      ]
    },
    {
      "cell_type": "code",
      "source": [
        "print(\"Random forest\")\n",
        "print(classification_report(y_test, y_pred2))"
      ],
      "metadata": {
        "colab": {
          "base_uri": "https://localhost:8080/"
        },
        "id": "SaP2w3tt7CQ8",
        "outputId": "1f786d01-263d-4672-a9fa-80c5423c793e"
      },
      "execution_count": null,
      "outputs": [
        {
          "output_type": "stream",
          "name": "stdout",
          "text": [
            "Random forest\n",
            "              precision    recall  f1-score   support\n",
            "\n",
            "           B       1.00      1.00      1.00      1405\n",
            "           G       1.00      1.00      1.00     35272\n",
            "\n",
            "    accuracy                           1.00     36677\n",
            "   macro avg       1.00      1.00      1.00     36677\n",
            "weighted avg       1.00      1.00      1.00     36677\n",
            "\n"
          ]
        }
      ]
    },
    {
      "cell_type": "code",
      "source": [
        "from sklearn import tree\n",
        "clf3 = tree.DecisionTreeClassifier()\n",
        "clf3.fit(X_train, y_train)\n",
        "y_pred3 = clf3.predict(X_test)\n",
        "print(y_pred3)\n",
        "print(\"Decision tree\")\n",
        "print(classification_report(y_test, y_pred3))"
      ],
      "metadata": {
        "id": "ToQc4FeK7LJj",
        "outputId": "1b51dc24-cef4-4047-87a2-f4fd01a7d1b2",
        "colab": {
          "base_uri": "https://localhost:8080/"
        }
      },
      "execution_count": null,
      "outputs": [
        {
          "output_type": "stream",
          "name": "stdout",
          "text": [
            "['G' 'G' 'G' ... 'G' 'G' 'G']\n",
            "Decision tree\n",
            "              precision    recall  f1-score   support\n",
            "\n",
            "           B       1.00      1.00      1.00      1405\n",
            "           G       1.00      1.00      1.00     35272\n",
            "\n",
            "    accuracy                           1.00     36677\n",
            "   macro avg       1.00      1.00      1.00     36677\n",
            "weighted avg       1.00      1.00      1.00     36677\n",
            "\n"
          ]
        }
      ]
    }
  ]
}